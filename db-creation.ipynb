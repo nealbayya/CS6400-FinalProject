{
 "cells": [
  {
   "cell_type": "code",
   "execution_count": 20,
   "id": "077797ca",
   "metadata": {},
   "outputs": [],
   "source": [
    "import os\n",
    "\n",
    "import IPython.display as ipd\n",
    "import numpy as np\n",
    "import pandas as pd\n",
    "import matplotlib.pyplot as plt\n",
    "import seaborn as sns\n",
    "import sklearn as skl\n",
    "import sklearn.utils, sklearn.preprocessing, sklearn.decomposition, sklearn.svm\n",
    "import librosa\n",
    "import librosa.display\n",
    "\n",
    "import utils\n",
    "import psycopg2"
   ]
  },
  {
   "cell_type": "code",
   "execution_count": 21,
   "id": "e0d07ca6",
   "metadata": {},
   "outputs": [],
   "source": [
    "tracks = utils.load('data/fma_metadata/tracks.csv')\n",
    "genres = utils.load('data/fma_metadata/genres.csv')\n",
    "features = utils.load('data/fma_metadata/features.csv')\n",
    "echonest = utils.load('data/fma_metadata/echonest.csv')"
   ]
  },
  {
   "cell_type": "markdown",
   "id": "a892a9dc",
   "metadata": {},
   "source": [
    "## Get Features"
   ]
  },
  {
   "cell_type": "code",
   "execution_count": 130,
   "id": "a7a05f36",
   "metadata": {},
   "outputs": [],
   "source": [
    "features_scaled = skl.preprocessing.StandardScaler().fit_transform(features)\n",
    "scaled_df = pd.DataFrame(features_scaled, index=features.index, columns=features.columns)"
   ]
  },
  {
   "cell_type": "code",
   "execution_count": 131,
   "id": "ff5f9e6e",
   "metadata": {},
   "outputs": [],
   "source": [
    "pca = skl.decomposition.PCA(n_components=20)\n",
    "pca_fit = pca.fit(scaled_df)\n",
    "features_transformed = pca_fit.transform(features_scaled)\n",
    "features_output = pd.DataFrame(features_transformed[:, :3], index=features.index)"
   ]
  },
  {
   "cell_type": "markdown",
   "id": "ee75b40c",
   "metadata": {},
   "source": [
    "## Database Insertion"
   ]
  },
  {
   "cell_type": "code",
   "execution_count": 146,
   "id": "14aae633",
   "metadata": {},
   "outputs": [],
   "source": [
    "conn = psycopg2.connect(database=\"musiclib\", user='postgres', password='password', host='127.0.0.1', port= '5432')\n",
    "cursor = conn.cursor()"
   ]
  },
  {
   "cell_type": "code",
   "execution_count": 133,
   "id": "fd0c2ff1",
   "metadata": {},
   "outputs": [],
   "source": [
    "genre_id2name = {}\n",
    "for index, row in genres.iterrows():\n",
    "    genre_id2name[index] = row['title']"
   ]
  },
  {
   "cell_type": "code",
   "execution_count": 134,
   "id": "e6716648",
   "metadata": {},
   "outputs": [],
   "source": [
    "stored_artist_ids = set()"
   ]
  },
  {
   "cell_type": "code",
   "execution_count": 135,
   "id": "801216dd",
   "metadata": {},
   "outputs": [],
   "source": [
    "def read_track(track_id, row):\n",
    "    #insert artist if not in table\n",
    "    artist_id = row['artist']['id']\n",
    "    if artist_id not in stored_artist_ids:\n",
    "        stored_artist_ids.add(artist_id)\n",
    "        artist_loc = row['artist']['location']\n",
    "        if pd.isnull(artist_loc):\n",
    "            artist_loc = None \n",
    "        elif len(artist_loc) > 50:\n",
    "            artist_loc = artist_loc[:45]\n",
    "        artist_name = row['artist']['name']\n",
    "        artist_bio = row['artist']['bio']\n",
    "        if artist_bio == 'nan':\n",
    "            artist_bio = None\n",
    "        if artist_loc == 'nan':\n",
    "            artist_loc = None\n",
    "\n",
    "        insert_artist_sql = \"\"\"\n",
    "        INSERT INTO artist(id, name, bio, location) \n",
    "        VALUES(%s, %s, %s, %s);\n",
    "        \"\"\"\n",
    "        try:\n",
    "            #print(\"Inserting artist record\")\n",
    "            cursor.execute(insert_artist_sql, (artist_id,artist_name,artist_bio,artist_loc))\n",
    "            conn.commit()\n",
    "        except (Exception, psycopg2.DatabaseError) as error:\n",
    "            print(error)\n",
    "            conn.rollback()\n",
    "            return\n",
    "    \n",
    "    #insert track\n",
    "    track_title = row['track']['title']\n",
    "    if pd.isnull(track_title):\n",
    "        track_title = None\n",
    "    elif len(track_title) > 100:\n",
    "        track_title = track_title[:95]\n",
    "    interest = row['track']['interest']\n",
    "    listens = row['track']['listens']\n",
    "    date_created = row['track']['date_created']\n",
    "    duration = row['track']['duration']\n",
    "    language = row['track']['language_code']\n",
    "    if pd.isnull(language):\n",
    "        language = None\n",
    "    elif len(language) > 10:\n",
    "        language = language[:9]\n",
    "    features = features_output.loc[track_id]\n",
    "    insert_track_sql = \"\"\"\n",
    "    INSERT INTO track(id, title, artist_id, interest, listens, date_created, duration, language, feature1, feature2, feature3) \n",
    "    VALUES(%s, %s, %s, %s, %s, %s, %s, %s, %s, %s, %s);\n",
    "    \"\"\"\n",
    "    try:\n",
    "        #print(\"Inserting track record\")\n",
    "        cursor.execute(insert_track_sql, (track_id, track_title, artist_id, interest, listens, date_created, duration, language, features[0], features[1], features[2]))\n",
    "        conn.commit()\n",
    "    except (Exception, psycopg2.DatabaseError) as error:\n",
    "        print(error)\n",
    "        conn.rollback()\n",
    "        return\n",
    "\n",
    "    #insert genres\n",
    "    genre_ids = row['track']['genres_all']\n",
    "    insert_genre_sql = '''\n",
    "    INSERT INTO genre(track_id, genre) \n",
    "    VALUES(%s, %s);\n",
    "    '''\n",
    "    for gid in genre_ids:\n",
    "        try:\n",
    "            #print(\"Inserting genre record\")\n",
    "            cursor.execute(insert_genre_sql, (track_id, genre_id2name[gid]))\n",
    "            conn.commit()\n",
    "        except (Exception, psycopg2.DatabaseError) as error:\n",
    "            print(error)\n",
    "            conn.rollback()\n",
    "            return"
   ]
  },
  {
   "cell_type": "code",
   "execution_count": 136,
   "id": "eda794c5",
   "metadata": {},
   "outputs": [],
   "source": [
    "num_tracks = tracks.shape[0]"
   ]
  },
  {
   "cell_type": "code",
   "execution_count": 137,
   "id": "998bfb34",
   "metadata": {},
   "outputs": [
    {
     "name": "stdout",
     "output_type": "stream",
     "text": [
      "1000 tracks out of 106574\n",
      "2000 tracks out of 106574\n",
      "3000 tracks out of 106574\n",
      "4000 tracks out of 106574\n",
      "5000 tracks out of 106574\n",
      "6000 tracks out of 106574\n",
      "7000 tracks out of 106574\n",
      "8000 tracks out of 106574\n",
      "9000 tracks out of 106574\n",
      "10000 tracks out of 106574\n",
      "11000 tracks out of 106574\n",
      "12000 tracks out of 106574\n",
      "13000 tracks out of 106574\n",
      "14000 tracks out of 106574\n",
      "15000 tracks out of 106574\n",
      "16000 tracks out of 106574\n",
      "17000 tracks out of 106574\n",
      "18000 tracks out of 106574\n",
      "19000 tracks out of 106574\n",
      "20000 tracks out of 106574\n",
      "21000 tracks out of 106574\n",
      "22000 tracks out of 106574\n",
      "23000 tracks out of 106574\n",
      "24000 tracks out of 106574\n",
      "25000 tracks out of 106574\n",
      "26000 tracks out of 106574\n",
      "27000 tracks out of 106574\n",
      "28000 tracks out of 106574\n",
      "29000 tracks out of 106574\n",
      "30000 tracks out of 106574\n",
      "31000 tracks out of 106574\n",
      "32000 tracks out of 106574\n",
      "33000 tracks out of 106574\n",
      "34000 tracks out of 106574\n",
      "35000 tracks out of 106574\n",
      "36000 tracks out of 106574\n",
      "37000 tracks out of 106574\n",
      "38000 tracks out of 106574\n",
      "39000 tracks out of 106574\n",
      "40000 tracks out of 106574\n",
      "41000 tracks out of 106574\n",
      "42000 tracks out of 106574\n",
      "43000 tracks out of 106574\n",
      "44000 tracks out of 106574\n",
      "45000 tracks out of 106574\n",
      "46000 tracks out of 106574\n",
      "47000 tracks out of 106574\n",
      "48000 tracks out of 106574\n",
      "49000 tracks out of 106574\n",
      "50000 tracks out of 106574\n",
      "51000 tracks out of 106574\n",
      "52000 tracks out of 106574\n",
      "53000 tracks out of 106574\n",
      "54000 tracks out of 106574\n",
      "55000 tracks out of 106574\n",
      "56000 tracks out of 106574\n",
      "57000 tracks out of 106574\n",
      "58000 tracks out of 106574\n",
      "59000 tracks out of 106574\n",
      "60000 tracks out of 106574\n",
      "61000 tracks out of 106574\n",
      "62000 tracks out of 106574\n",
      "63000 tracks out of 106574\n",
      "64000 tracks out of 106574\n",
      "65000 tracks out of 106574\n",
      "66000 tracks out of 106574\n",
      "67000 tracks out of 106574\n",
      "68000 tracks out of 106574\n",
      "69000 tracks out of 106574\n",
      "70000 tracks out of 106574\n",
      "71000 tracks out of 106574\n",
      "72000 tracks out of 106574\n",
      "73000 tracks out of 106574\n",
      "74000 tracks out of 106574\n",
      "75000 tracks out of 106574\n",
      "76000 tracks out of 106574\n",
      "77000 tracks out of 106574\n",
      "78000 tracks out of 106574\n",
      "79000 tracks out of 106574\n",
      "80000 tracks out of 106574\n",
      "81000 tracks out of 106574\n",
      "82000 tracks out of 106574\n",
      "83000 tracks out of 106574\n",
      "84000 tracks out of 106574\n",
      "85000 tracks out of 106574\n",
      "86000 tracks out of 106574\n",
      "87000 tracks out of 106574\n",
      "88000 tracks out of 106574\n",
      "89000 tracks out of 106574\n",
      "90000 tracks out of 106574\n",
      "91000 tracks out of 106574\n",
      "92000 tracks out of 106574\n",
      "93000 tracks out of 106574\n",
      "94000 tracks out of 106574\n",
      "95000 tracks out of 106574\n",
      "96000 tracks out of 106574\n",
      "97000 tracks out of 106574\n",
      "98000 tracks out of 106574\n",
      "99000 tracks out of 106574\n",
      "100000 tracks out of 106574\n",
      "101000 tracks out of 106574\n",
      "102000 tracks out of 106574\n",
      "103000 tracks out of 106574\n",
      "104000 tracks out of 106574\n",
      "105000 tracks out of 106574\n",
      "106000 tracks out of 106574\n"
     ]
    }
   ],
   "source": [
    "num_rows = 0\n",
    "for index, row in tracks.iterrows():\n",
    "    read_track(index, row)\n",
    "    num_rows += 1\n",
    "    if num_rows % 1000 == 0:\n",
    "        print(\"{} tracks out of {}\".format(num_rows, num_tracks))"
   ]
  },
  {
   "cell_type": "markdown",
   "id": "25c60e82",
   "metadata": {},
   "source": [
    "## Load Audio Paths"
   ]
  },
  {
   "cell_type": "code",
   "execution_count": 147,
   "id": "1248066c",
   "metadata": {},
   "outputs": [],
   "source": [
    "gen_paths = 'data/fma_small/'\n",
    "def fill(x):\n",
    "    xs = str(x)\n",
    "    while len(xs) < 3:\n",
    "        xs = '0' + xs\n",
    "    return xs\n",
    "dirs = [fill(i) for i in range(156)]"
   ]
  },
  {
   "cell_type": "code",
   "execution_count": 148,
   "id": "8875b471",
   "metadata": {},
   "outputs": [],
   "source": [
    "insert_audio_sql = \"INSERT INTO audio(track_id, file_path) VALUES(%s, %s);\"\n",
    "for d in dirs:\n",
    "    audio_path = gen_paths + d + '/'\n",
    "    dir_list = os.listdir(audio_path)\n",
    "    for f in dir_list:\n",
    "        track_id = int(f[:f.index('.')])\n",
    "        full_relpath = audio_path + f\n",
    "        try:\n",
    "            cursor.execute(insert_audio_sql, (track_id, full_relpath))\n",
    "            conn.commit()\n",
    "        except (Exception, psycopg2.DatabaseError) as error:\n",
    "            print(error)\n",
    "            conn.rollback()\n",
    "            break"
   ]
  },
  {
   "cell_type": "code",
   "execution_count": null,
   "id": "b0f73c6f",
   "metadata": {},
   "outputs": [],
   "source": []
  },
  {
   "cell_type": "code",
   "execution_count": 149,
   "id": "ba439e46",
   "metadata": {},
   "outputs": [],
   "source": [
    "conn.close()\n",
    "cursor.close()"
   ]
  },
  {
   "cell_type": "code",
   "execution_count": null,
   "id": "7642afed",
   "metadata": {},
   "outputs": [],
   "source": []
  }
 ],
 "metadata": {
  "kernelspec": {
   "display_name": "Python 3.9.7 64-bit",
   "language": "python",
   "name": "python3"
  },
  "language_info": {
   "codemirror_mode": {
    "name": "ipython",
    "version": 3
   },
   "file_extension": ".py",
   "mimetype": "text/x-python",
   "name": "python",
   "nbconvert_exporter": "python",
   "pygments_lexer": "ipython3",
   "version": "3.9.7"
  },
  "vscode": {
   "interpreter": {
    "hash": "b0fa6594d8f4cbf19f97940f81e996739fb7646882a419484c72d19e05852a7e"
   }
  }
 },
 "nbformat": 4,
 "nbformat_minor": 5
}
